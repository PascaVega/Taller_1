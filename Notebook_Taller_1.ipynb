{
 "cells": [
  {
   "cell_type": "markdown",
   "metadata": {},
   "source": [
    "Parte 3"
   ]
  },
  {
   "cell_type": "code",
   "execution_count": 11,
   "metadata": {},
   "outputs": [
    {
     "name": "stdout",
     "output_type": "stream",
     "text": [
      "Ingrese un número entero para determinar si par o impar.\n"
     ]
    },
    {
     "name": "stdout",
     "output_type": "stream",
     "text": [
      "El número 5 es impar.\n",
      "El número 2 es par\n",
      "El número 9048 es par\n"
     ]
    }
   ],
   "source": [
    "#Taller 1 - Punto 3\n",
    "#Realice un programa que lea un número entero y determine si es par o impar.\n",
    "\n",
    "def introducir():\n",
    "    num1 : int = int(input(\"Ingrese el primer número entero. Ejemplo: 5: \"))\n",
    "    desarrollo(num1)\n",
    "\n",
    "def desarrollo(num1):\n",
    "    if num1 %2:\n",
    "        print(f\"El número {num1} es impar.\")\n",
    "        return\n",
    "    else:\n",
    "        print(f\"El número {num1} es par\")\n",
    "        return\n",
    "\n",
    "\n",
    "def continuar():\n",
    "    opcion : int = int(input(\"¿Desea continuar? Marque 1 (sí) o 2 (no): \"))\n",
    "    return opcion\n",
    "\n",
    "if __name__ == \"__main__\":\n",
    "    print(\"Ingrese un número entero para determinar si par o impar.\")\n",
    "\n",
    "    while True:\n",
    "        introducir()\n",
    "        opcion = continuar()\n",
    "        if opcion == 2:\n",
    "            break\n",
    "        elif opcion != 1 and 2:\n",
    "            print(\"Sintax error\")\n",
    "            break\n",
    "\n",
    "# ! /\\|=\\/"
   ]
  },
  {
   "cell_type": "markdown",
   "metadata": {},
   "source": [
    "Parte 5"
   ]
  },
  {
   "cell_type": "code",
   "execution_count": 12,
   "metadata": {},
   "outputs": [
    {
     "name": "stdout",
     "output_type": "stream",
     "text": [
      "Ingrese tres números para determinar si la suma de los dos primeros números es mayor, menor o igual al tercer número.\n"
     ]
    },
    {
     "ename": "ValueError",
     "evalue": "could not convert string to float: ''",
     "output_type": "error",
     "traceback": [
      "\u001b[1;31m---------------------------------------------------------------------------\u001b[0m",
      "\u001b[1;31mValueError\u001b[0m                                Traceback (most recent call last)",
      "Cell \u001b[1;32mIn[12], line 29\u001b[0m\n\u001b[0;32m     26\u001b[0m \u001b[38;5;28mprint\u001b[39m(\u001b[38;5;124m\"\u001b[39m\u001b[38;5;124mIngrese tres números para determinar si la suma de los dos primeros números es mayor, menor o igual al tercer número.\u001b[39m\u001b[38;5;124m\"\u001b[39m)\n\u001b[0;32m     28\u001b[0m \u001b[38;5;28;01mwhile\u001b[39;00m \u001b[38;5;28;01mTrue\u001b[39;00m:\n\u001b[1;32m---> 29\u001b[0m     \u001b[43mintroducir\u001b[49m\u001b[43m(\u001b[49m\u001b[43m)\u001b[49m\n\u001b[0;32m     30\u001b[0m     opcion \u001b[38;5;241m=\u001b[39m continuar()\n\u001b[0;32m     31\u001b[0m     \u001b[38;5;28;01mif\u001b[39;00m opcion \u001b[38;5;241m==\u001b[39m \u001b[38;5;241m2\u001b[39m:\n",
      "Cell \u001b[1;32mIn[12], line 5\u001b[0m, in \u001b[0;36mintroducir\u001b[1;34m()\u001b[0m\n\u001b[0;32m      4\u001b[0m \u001b[38;5;28;01mdef\u001b[39;00m \u001b[38;5;21mintroducir\u001b[39m():\n\u001b[1;32m----> 5\u001b[0m     num1 : \u001b[38;5;28mfloat\u001b[39m \u001b[38;5;241m=\u001b[39m \u001b[38;5;28;43mfloat\u001b[39;49m\u001b[43m(\u001b[49m\u001b[38;5;28;43minput\u001b[39;49m\u001b[43m(\u001b[49m\u001b[38;5;124;43m\"\u001b[39;49m\u001b[38;5;124;43mIngrese el primer número. Ejemplo: 5.6: \u001b[39;49m\u001b[38;5;124;43m\"\u001b[39;49m\u001b[43m)\u001b[49m\u001b[43m)\u001b[49m\n\u001b[0;32m      6\u001b[0m     num2 : \u001b[38;5;28mfloat\u001b[39m \u001b[38;5;241m=\u001b[39m \u001b[38;5;28mfloat\u001b[39m(\u001b[38;5;28minput\u001b[39m(\u001b[38;5;124m\"\u001b[39m\u001b[38;5;124mIngrese el segundo número. Ejemplo: 10: \u001b[39m\u001b[38;5;124m\"\u001b[39m))\n\u001b[0;32m      7\u001b[0m     num3 : \u001b[38;5;28mfloat\u001b[39m \u001b[38;5;241m=\u001b[39m \u001b[38;5;28mfloat\u001b[39m(\u001b[38;5;28minput\u001b[39m(\u001b[38;5;124m\"\u001b[39m\u001b[38;5;124mIngrese el tercer número. Ejemplo: 8.75: \u001b[39m\u001b[38;5;124m\"\u001b[39m))\n",
      "\u001b[1;31mValueError\u001b[0m: could not convert string to float: ''"
     ]
    }
   ],
   "source": [
    "#Taller 1 - Punto 5\n",
    "#Realice un programa que lea tres números reales y determine si la suma de los dos primeros es mayor, menor o igual que el tercer número.\n",
    "\n",
    "def introducir():\n",
    "    num1 : float = float(input(\"Ingrese el primer número. Ejemplo: 5.6: \"))\n",
    "    num2 : float = float(input(\"Ingrese el segundo número. Ejemplo: 10: \"))\n",
    "    num3 : float = float(input(\"Ingrese el tercer número. Ejemplo: 8.75: \"))\n",
    "    desarrollo(num1,num2,num3)\n",
    "\n",
    "def desarrollo(num1,num2,num3):\n",
    "    if num1+num2>num3:\n",
    "        print(f\"La suma de los números {num1} y {num2} es mayor que {num3}\")\n",
    "        return\n",
    "    elif num1+num2==num3:\n",
    "        print(f\"La suma de los números {num1} y {num2} es igual al número {num3}\")\n",
    "        return\n",
    "    else:\n",
    "        print(f\"La suma de los números {num1} y {num2} es menor que {num3}\")\n",
    "        return\n",
    "\n",
    "def continuar():\n",
    "    opcion : int = int(input(\"¿Desea continuar? Marque 1 (sí) o 2 (no): \"))\n",
    "    return opcion\n",
    "\n",
    "if __name__ == \"__main__\":\n",
    "    print(\"Ingrese tres números para determinar si la suma de los dos primeros números es mayor, menor o igual al tercer número.\")\n",
    "\n",
    "    while True:\n",
    "        introducir()\n",
    "        opcion = continuar()\n",
    "        if opcion == 2:\n",
    "            break\n",
    "        elif opcion != 1 and 2:\n",
    "            print(\"Sintax error\")\n",
    "            break\n",
    "# ! /\\|=\\/"
   ]
  },
  {
   "cell_type": "markdown",
   "metadata": {},
   "source": [
    "Parte 7"
   ]
  },
  {
   "cell_type": "code",
   "execution_count": null,
   "metadata": {},
   "outputs": [
    {
     "name": "stdout",
     "output_type": "stream",
     "text": [
      "Ingrese cinco número para realizar determinadas operaciones.\n"
     ]
    },
    {
     "name": "stdout",
     "output_type": "stream",
     "text": [
      "Promedio: 29.0178\n",
      "Mediana: 9.6\n",
      "Promedio multiplicativo: 104502.52799999999\n",
      "Números de forma ascendente: [3.489, 4.0, 9.6, 50.0, 78.0]\n",
      "Números de forma descendente: [78.0, 50.0, 9.6, 4.0, 3.489]\n",
      "potencia del mayor número elevado al menor número: 3995011.8217716957\n",
      "La raiz cúbica del número menor: 3.6840314986403864\n"
     ]
    }
   ],
   "source": [
    "#Taller 1 - Punto 7\n",
    "#Escriba un programa que pida 5 números reales y calcule las siguientes operaciones: \n",
    "#Promedio, mediana, promedio multiplicativo, ordenar los números de forma ascendente, ordenar los números de forma descendente, potencia del mayor número elevado al menor número, raíz cúbica del menor número.\n",
    "\n",
    "def introducir():\n",
    "    num1 : float = float(input(\"Ingrese el primer número. Ejemplo: 50.75: \"))\n",
    "    num2 : float = float(input(\"Ingrese el segundo número. Ejemplo: 50.75: \"))\n",
    "    num3 : float = float(input(\"Ingrese el tercer número. Ejemplo: 50.75: \"))\n",
    "    num4 : float = float(input(\"Ingrese el cuarto número. Ejemplo: 50.75: \"))\n",
    "    num5 : float = float(input(\"Ingrese el quinto número. Ejemplo: 50.75: \"))\n",
    "    desarrollo(num1,num2,num3,num4,num5)\n",
    "\n",
    "def desarrollo(num1,num2,num3,num4,num5):\n",
    "    numeros = [num1,num2,num3,num4,num5]\n",
    "    numeros.sort()\n",
    "\n",
    "    promedio = (num1+num2+num3+num4+num5)/5\n",
    "    print(f\"Promedio: {promedio}\")\n",
    "\n",
    "    if len(numeros) % 2 == 0:\n",
    "        mediana : float  = (numeros[len(numeros)//2-1] + numeros[len(numeros)//2])/2\n",
    "    else:\n",
    "        mediana = numeros[len(numeros)//2]\n",
    "    print(f\"Mediana: {mediana}\")\n",
    "\n",
    "    promedio_multiplicativo : float = (num1*num2*num3*num4*num5)/5\n",
    "    print(f\"Promedio multiplicativo: {promedio_multiplicativo}\")\n",
    "\n",
    "    print(f\"Números de forma ascendente: {numeros}\")\n",
    "\n",
    "    numeros.sort(reverse=True)\n",
    "    print(f\"Números de forma descendente: {numeros}\")\n",
    "\n",
    "    potencia : float = numeros[0]**numeros[-1]\n",
    "    print(f\"potencia del mayor número elevado al menor número: {potencia}\")\n",
    "\n",
    "    raiz : float = num1 ** (1/3)\n",
    "    print(f\"La raiz cúbica del número menor: {raiz}\")\n",
    "\n",
    "def continuar():\n",
    "    opcion : int = int(input(\"¿Desea continuar? Marque 1 (sí) o 2 (no): \"))\n",
    "    return opcion\n",
    "\n",
    "if __name__ == \"__main__\":\n",
    "    print(\"Ingrese cinco número para realizar determinadas operaciones.\")\n",
    "\n",
    "    while True:\n",
    "        introducir()\n",
    "        opcion = continuar()\n",
    "        if opcion == 2:\n",
    "            break\n",
    "        elif opcion != 1 and 2:\n",
    "            print(\"Sintax error\")\n",
    "            break\n",
    "# ! /\\|=\\/"
   ]
  },
  {
   "cell_type": "markdown",
   "metadata": {},
   "source": [
    "Parte 9"
   ]
  },
  {
   "cell_type": "code",
   "execution_count": null,
   "metadata": {},
   "outputs": [
    {
     "name": "stdout",
     "output_type": "stream",
     "text": [
      "Programa para conocer la capital de un país de América\n"
     ]
    },
    {
     "name": "stdout",
     "output_type": "stream",
     "text": [
      "La capital de  es: Paí no identificado\n"
     ]
    },
    {
     "ename": "ValueError",
     "evalue": "invalid literal for int() with base 10: ''",
     "output_type": "error",
     "traceback": [
      "\u001b[1;31m---------------------------------------------------------------------------\u001b[0m",
      "\u001b[1;31mValueError\u001b[0m                                Traceback (most recent call last)",
      "Cell \u001b[1;32mIn[10], line 63\u001b[0m\n\u001b[0;32m     61\u001b[0m \u001b[38;5;28;01mwhile\u001b[39;00m \u001b[38;5;28;01mTrue\u001b[39;00m:\n\u001b[0;32m     62\u001b[0m     pais \u001b[38;5;241m=\u001b[39m introducir()\n\u001b[1;32m---> 63\u001b[0m     opcion \u001b[38;5;241m=\u001b[39m \u001b[43mcontinuar\u001b[49m\u001b[43m(\u001b[49m\u001b[43mpais\u001b[49m\u001b[43m)\u001b[49m\n\u001b[0;32m     64\u001b[0m     \u001b[38;5;28;01mif\u001b[39;00m opcion \u001b[38;5;241m==\u001b[39m \u001b[38;5;241m2\u001b[39m:\n\u001b[0;32m     65\u001b[0m         \u001b[38;5;28;01mbreak\u001b[39;00m\n",
      "Cell \u001b[1;32mIn[10], line 55\u001b[0m, in \u001b[0;36mcontinuar\u001b[1;34m(pais)\u001b[0m\n\u001b[0;32m     53\u001b[0m capital : \u001b[38;5;28mstr\u001b[39m \u001b[38;5;241m=\u001b[39m desarrollo(pais)\n\u001b[0;32m     54\u001b[0m \u001b[38;5;28mprint\u001b[39m(\u001b[38;5;124mf\u001b[39m\u001b[38;5;124m\"\u001b[39m\u001b[38;5;124mLa capital de \u001b[39m\u001b[38;5;132;01m{\u001b[39;00mpais\u001b[38;5;241m.\u001b[39mcapitalize()\u001b[38;5;132;01m}\u001b[39;00m\u001b[38;5;124m es: \u001b[39m\u001b[38;5;132;01m{\u001b[39;00mcapital\u001b[38;5;132;01m}\u001b[39;00m\u001b[38;5;124m\"\u001b[39m)\n\u001b[1;32m---> 55\u001b[0m opcion : \u001b[38;5;28mint\u001b[39m \u001b[38;5;241m=\u001b[39m \u001b[38;5;28;43mint\u001b[39;49m\u001b[43m(\u001b[49m\u001b[38;5;28;43minput\u001b[39;49m\u001b[43m(\u001b[49m\u001b[38;5;124;43m\"\u001b[39;49m\u001b[38;5;124;43m¿Desea continuar? Marque 1 (sí) o 2 (no): \u001b[39;49m\u001b[38;5;124;43m\"\u001b[39;49m\u001b[43m)\u001b[49m\u001b[43m)\u001b[49m\n\u001b[0;32m     56\u001b[0m \u001b[38;5;28;01mreturn\u001b[39;00m opcion\n",
      "\u001b[1;31mValueError\u001b[0m: invalid literal for int() with base 10: ''"
     ]
    }
   ],
   "source": [
    "#Taller 1 - Punto 9\n",
    "#Escriba un programa que reciba el nombre en minúsculas de un país de America y retorne la ciudad capital, si el país no pertenece al continente debe arrojar país no identificado.\n",
    "\n",
    "def introducir():\n",
    "    pais : str = input(\"Ingrese el nombre de un país. Ejemplo: Colombia: \").lower()\n",
    "    desarrollo(pais)\n",
    "    return pais\n",
    "\n",
    "def desarrollo(pais):\n",
    "    paises_america = {\n",
    "    \"canadá\": \"Ottawa\",\n",
    "    \"estados unidos\": \"Washington D.C.\",\n",
    "    \"méxico\": \"Ciudad de México\",\n",
    "    \"belice\": \"Belmopán\",\n",
    "    \"costa rica\": \"San José\",\n",
    "    \"el salvador\": \"San Salvador\",\n",
    "    \"guatemala\": \"Ciudad de Guatemala\",\n",
    "    \"honduras\": \"Tegucigalpa\",\n",
    "    \"nicaragua\": \"Managua\",\n",
    "    \"panamá\": \"Ciudad de Panamá\",\n",
    "    \"argentina\": \"Buenos Aires\",\n",
    "    \"bolivia\": \"La Paz\",\n",
    "    \"brasil\": \"Brasilia\",\n",
    "    \"chile\": \"Santiago\",\n",
    "    \"colombia\": \"Bogotá\",\n",
    "    \"ecuador\": \"Quito\",\n",
    "    \"paraguay\": \"Asunción\",\n",
    "    \"perú\": \"Lima\",\n",
    "    \"surinam\": \"Paramaribo\",\n",
    "    \"trinidad y tobago\": \"Puerto España\",\n",
    "    \"uruguay\": \"Montevideo\",\n",
    "    \"venezuela\": \"Caracas\",\n",
    "    \"antiguas y barbuda\": \"Saint John's\",\n",
    "    \"bahamas\": \"Nasáu\",\n",
    "    \"barbados\": \"Bridgetown\",\n",
    "    \"cuba\": \"La Habana\",\n",
    "    \"dominica\": \"Roseau\",\n",
    "    \"granada\": \"San Jorge\",\n",
    "    \"guyana\": \"Georgetown\",\n",
    "    \"haití\": \"Puerto Príncipe\",\n",
    "    \"jamaica\": \"Kingston\",\n",
    "    \"república dominicana\": \"Santo Domingo\",\n",
    "    \"san cristóbal y nieves\": \"Basseterre\",\n",
    "    \"san vicente y las granadinas\": \"Kingstown\",\n",
    "    \"santa lucía\": \"Castries\"\n",
    "    }\n",
    "    if pais in paises_america:\n",
    "        return paises_america[pais]\n",
    "    else:\n",
    "        return \"Paí no identificado\"\n",
    "    \n",
    "def continuar(pais):\n",
    "    capital : str = desarrollo(pais)\n",
    "    print(f\"La capital de {pais.capitalize()} es: {capital}\")\n",
    "    opcion : int = int(input(\"¿Desea continuar? Marque 1 (sí) o 2 (no): \"))\n",
    "    return opcion\n",
    "\n",
    "if __name__ == \"__main__\":\n",
    "    print(\"Programa para conocer la capital de un país de América\")\n",
    "    \n",
    "    while True:\n",
    "        pais = introducir()\n",
    "        opcion = continuar(pais)\n",
    "        if opcion == 2:\n",
    "            break\n",
    "        elif opcion != 1 and 2:\n",
    "            print(\"Sintax error\")\n",
    "            break\n",
    "\n",
    "# ! /\\|=\\/"
   ]
  }
 ],
 "metadata": {
  "kernelspec": {
   "display_name": "Python 3",
   "language": "python",
   "name": "python3"
  },
  "language_info": {
   "codemirror_mode": {
    "name": "ipython",
    "version": 3
   },
   "file_extension": ".py",
   "mimetype": "text/x-python",
   "name": "python",
   "nbconvert_exporter": "python",
   "pygments_lexer": "ipython3",
   "version": "3.12.2"
  }
 },
 "nbformat": 4,
 "nbformat_minor": 2
}
